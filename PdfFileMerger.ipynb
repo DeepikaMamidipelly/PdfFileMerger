{
 "cells": [
  {
   "cell_type": "code",
   "execution_count": 22,
   "id": "93e4f383",
   "metadata": {},
   "outputs": [],
   "source": [
    "from PyPDF2 import PdfFileMerger\n",
    " \n",
    "def appending():\n",
    "    merger=PdfFileMerger()\n",
    "    \n",
    "    #we can provide filestream\n",
    "    pdfFile=open(\"C:\\\\Users\\\\Deepika Raj\\\\DESKTOP\\\\PdfFile1.pdf\",\"rb\")\n",
    "    merger.append(pdfFile)\n",
    "    \n",
    "    #or we can directly give file path\n",
    "    merger.append(\"S:\\\\PROJECT\\\\PdfFile2.pdf\")\n",
    "    merger.write(\"S:\\\\PROJECT\\\\MergedFile1.pdf\")\n",
    "    \n",
    "    #inserting after certain pageNo:\n",
    "def inserting():\n",
    "    merger=PdfFileMerger()\n",
    "    merger.append(\"S:\\\\PROJECT\\\\PdfFile1.pdf\")\n",
    "    merger.merge(1,\"S:\\\\PROJECT\\\\PdfFile2.pdf\")\n",
    "    merger.write(\"S:\\PROJECT\\MergedFile2.pdf\")\n",
    "    \n",
    "appending()\n",
    "inserting()"
   ]
  },
  {
   "cell_type": "code",
   "execution_count": null,
   "id": "5dff8f75",
   "metadata": {},
   "outputs": [],
   "source": []
  },
  {
   "cell_type": "code",
   "execution_count": null,
   "id": "5a80ebf8",
   "metadata": {},
   "outputs": [],
   "source": []
  }
 ],
 "metadata": {
  "kernelspec": {
   "display_name": "Python 3",
   "language": "python",
   "name": "python3"
  },
  "language_info": {
   "codemirror_mode": {
    "name": "ipython",
    "version": 3
   },
   "file_extension": ".py",
   "mimetype": "text/x-python",
   "name": "python",
   "nbconvert_exporter": "python",
   "pygments_lexer": "ipython3",
   "version": "3.8.8"
  }
 },
 "nbformat": 4,
 "nbformat_minor": 5
}
